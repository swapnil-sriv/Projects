{
 "cells": [
  {
   "cell_type": "code",
   "execution_count": 1,
   "id": "c2003050",
   "metadata": {},
   "outputs": [],
   "source": [
    "    from tensorflow.keras.models import load_model\n",
    "    \n",
    "# load the model\n",
    "    model = load_model('model.h5')"
   ]
  },
  {
   "cell_type": "code",
   "execution_count": 2,
   "id": "dfc79d37",
   "metadata": {},
   "outputs": [
    {
     "ename": "SyntaxError",
     "evalue": "unexpected EOF while parsing (1093706366.py, line 10)",
     "output_type": "error",
     "traceback": [
      "\u001b[1;36m  File \u001b[1;32m\"C:\\Users\\Swapnil\\AppData\\Local\\Temp\\ipykernel_22372\\1093706366.py\"\u001b[1;36m, line \u001b[1;32m10\u001b[0m\n\u001b[1;33m    crop_img = np.expand_dims(crop_img, axis=0)\u001b[0m\n\u001b[1;37m                                               ^\u001b[0m\n\u001b[1;31mSyntaxError\u001b[0m\u001b[1;31m:\u001b[0m unexpected EOF while parsing\n"
     ]
    }
   ],
   "source": [
    "CATEGORIES = ['no_mask', 'mask']\n",
    "cap = cv2.VideoCapture(0)\n",
    "while True:\n",
    "  _, frame = cap.read()\n",
    "  img = frame.copy()\n",
    "try:\n",
    "          x, y, w, h = get_detection(frame)\n",
    "          crop_img = img[y:y+h, x:x+w]\n",
    "          crop_img = cv2.resize(crop_img, (100, 100))\n",
    "          crop_img = np.expand_dims(crop_img, axis=0)"
   ]
  },
  {
   "cell_type": "code",
   "execution_count": null,
   "id": "94bdcf6e",
   "metadata": {},
   "outputs": [],
   "source": [
    "prediction = model.predict(crop_img)\n",
    "index = np.argmax(prediction)\n",
    "res = CATEGORIES[index]\n",
    "if index == 0:\n",
    "            color = (0, 0, 255)\n",
    "else:\n",
    "            color = (0, 255, 0)\n",
    "cv2.rectangle(frame, (x, y), (x+w, y+h), color, 2)\n",
    "cv2.putText(frame, res, (x, y-10), cv2.FONT_HERSHEY_SIMPLEX,0.8, color, 2, cv2.LINE_AA)\n",
    "\n",
    "    \n",
    "cv2.imshow(\"frame\", frame)\n",
    "if cv2.waitKey(1) == ord('q'):\n",
    "        break"
   ]
  },
  {
   "cell_type": "code",
   "execution_count": null,
   "id": "f3430e58",
   "metadata": {},
   "outputs": [],
   "source": []
  }
 ],
 "metadata": {
  "kernelspec": {
   "display_name": "Python 3 (ipykernel)",
   "language": "python",
   "name": "python3"
  },
  "language_info": {
   "codemirror_mode": {
    "name": "ipython",
    "version": 3
   },
   "file_extension": ".py",
   "mimetype": "text/x-python",
   "name": "python",
   "nbconvert_exporter": "python",
   "pygments_lexer": "ipython3",
   "version": "3.9.13"
  },
  "vscode": {
   "interpreter": {
    "hash": "26de051ba29f2982a8de78e945f0abaf191376122a1563185a90213a26c5da77"
   }
  }
 },
 "nbformat": 4,
 "nbformat_minor": 5
}
