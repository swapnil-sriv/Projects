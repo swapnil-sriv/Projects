{
 "cells": [
  {
   "cell_type": "code",
   "execution_count": 1,
   "id": "6e66f708",
   "metadata": {},
   "outputs": [],
   "source": [
    "import os\n",
    "import cv2\n",
    "import time\n",
    "from tqdm import tqdm\n",
    "import numpy as np\n",
    "import tensorflow as tf\n",
    "from sklearn.model_selection import train_test_split\n",
    "from tensorflow.keras.models import Sequential, load_model\n",
    "from tensorflow.keras.layers import Conv2D, Dense, MaxPooling2D, Flatten, Activation, Dropout"
   ]
  },
  {
   "cell_type": "code",
   "execution_count": 2,
   "id": "3d82d1e5",
   "metadata": {},
   "outputs": [
    {
     "name": "stdout",
     "output_type": "stream",
     "text": [
      "['mask', 'no_mask']\n"
     ]
    }
   ],
   "source": [
    "img_size = 100\n",
    "datadir = r'Data'    # root data directiory \n",
    "CATEGORIES = os.listdir(datadir)\n",
    "print(CATEGORIES)"
   ]
  },
  {
   "cell_type": "code",
   "execution_count": null,
   "id": "3d241f52",
   "metadata": {},
   "outputs": [
    {
     "name": "stdout",
     "output_type": "stream",
     "text": [
      "Data\\mask\n"
     ]
    },
    {
     "name": "stderr",
     "output_type": "stream",
     "text": [
      "100%|████████████████████████████████████████████████████████████████████████████████| 658/658 [00:12<00:00, 52.71it/s]\n"
     ]
    },
    {
     "name": "stdout",
     "output_type": "stream",
     "text": [
      "Data\\no_mask\n"
     ]
    },
    {
     "name": "stderr",
     "output_type": "stream",
     "text": [
      " 46%|████████████████████████████████████▋                                           | 301/657 [00:04<00:06, 58.58it/s]"
     ]
    }
   ],
   "source": [
    "\n",
    "x, y = [], []\n",
    "   \n",
    "def PreProcess():\n",
    "    for category in CATEGORIES:\n",
    "        path = os.path.join(datadir, category)\n",
    "        classIndex = CATEGORIES.index(category)\n",
    "        print(path)\n",
    "        for imgs in tqdm(os.listdir(path)):\n",
    "            img_arr = cv2.imread(os.path.join(path, imgs))\n",
    "            \n",
    "            # resize the image\n",
    "            resized_array = cv2.resize(img_arr, (img_size, img_size))\n",
    "            cv2.imshow(\"images\", resized_array)\n",
    "            cv2.waitKey(1)\n",
    "            resized_array = resized_array/255.0\n",
    "            x.append(resized_array)\n",
    "            y.append(classIndex)\n",
    "            \n",
    "PreProcess()\n",
    "cv2.destroyAllWindows()"
   ]
  },
  {
   "cell_type": "code",
   "execution_count": null,
   "id": "0b10cd3f",
   "metadata": {},
   "outputs": [],
   "source": [
    "X_train, X_test, y_train, y_test = train_test_split(x, y, test_size=0.20, random_state=42)"
   ]
  },
  {
   "cell_type": "code",
   "execution_count": null,
   "id": "b85f416d",
   "metadata": {},
   "outputs": [],
   "source": [
    "X_train = np.array(X_train).reshape(-1, img_size, img_size, 3)\n",
    "y_train = np.array(y_train)\n",
    "X_test = np.array(X_test).reshape(-1, img_size, img_size, 3)\n",
    "y_test = np.array(y_test)"
   ]
  },
  {
   "cell_type": "code",
   "execution_count": null,
   "id": "215221b4",
   "metadata": {},
   "outputs": [],
   "source": [
    "batch_size = 32\n",
    "epochs = 15"
   ]
  },
  {
   "cell_type": "code",
   "execution_count": null,
   "id": "3b28e4ca",
   "metadata": {},
   "outputs": [],
   "source": [
    "model = Sequential()\n",
    "\n",
    "model.add(Conv2D(64,(3, 3), input_shape=(img_size, img_size, 3)))\n",
    "model.add(Activation('relu'))\n",
    "model.add(MaxPooling2D(pool_size = (2, 2)))\n",
    "\n",
    "model.add(Conv2D(256, (3, 3)))\n",
    "model.add(Activation('relu'))\n",
    "model.add(MaxPooling2D(pool_size = (2, 2)))\n",
    "\n",
    "model.add(Conv2D(128, (3, 3)))\n",
    "model.add(Activation('relu'))\n",
    "model.add(Dropout(0.25))\n",
    "\n",
    "model.add(Conv2D(32, (3, 3)))\n",
    "model.add(Activation('relu'))\n",
    "model.add(MaxPooling2D(pool_size = (2, 2)))\n",
    "\n",
    "model.add(Dropout(0.25))\n",
    "model.add(Flatten())\n",
    "model.add(Dense(100, activation='relu'))\n",
    "model.add(Dense(16, activation='relu'))\n",
    "\n",
    "\n",
    "model.add(Dense(len(CATEGORIES)))\n",
    "model.add(Activation('softmax'))\n",
    "\n",
    "\n",
    "\n",
    "model.compile(optimizer='adam', loss = 'sparse_categorical_crossentropy', metrics=['accuracy'])\n",
    "model.summary()"
   ]
  },
  {
   "cell_type": "code",
   "execution_count": null,
   "id": "8deb7529",
   "metadata": {},
   "outputs": [],
   "source": [
    "t1 = time.time()\n",
    "\n",
    "model.fit(X_train, y_train, batch_size = batch_size, epochs=epochs, validation_split=0.3, verbose = 1)\n",
    "model.save('{}.h5'.format(\"model\"))\n",
    "\n",
    "t2 = time.time()\n",
    "print('Time taken: ',t2-t1)"
   ]
  },
  {
   "cell_type": "code",
   "execution_count": null,
   "id": "d5a8b9d5",
   "metadata": {},
   "outputs": [],
   "source": [
    "validation_loss, validation_accuracy = model.evaluate(X_test, y_test)"
   ]
  },
  {
   "cell_type": "code",
   "execution_count": null,
   "id": "b01ecabd",
   "metadata": {},
   "outputs": [],
   "source": []
  }
 ],
 "metadata": {
  "kernelspec": {
   "display_name": "Python 3 (ipykernel)",
   "language": "python",
   "name": "python3"
  },
  "language_info": {
   "codemirror_mode": {
    "name": "ipython",
    "version": 3
   },
   "file_extension": ".py",
   "mimetype": "text/x-python",
   "name": "python",
   "nbconvert_exporter": "python",
   "pygments_lexer": "ipython3",
   "version": "3.9.13"
  }
 },
 "nbformat": 4,
 "nbformat_minor": 5
}
